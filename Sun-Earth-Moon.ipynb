{
 "cells": [
  {
   "cell_type": "code",
   "execution_count": 60,
   "id": "61f5ec81",
   "metadata": {},
   "outputs": [
    {
     "data": {
      "image/png": "[encoded data removed]",
      "text/plain": [
       "<Figure size 800x800 with 1 Axes>"
      ]
     },
     "metadata": {},
     "output_type": "display_data"
    }
   ],
   "source": [
    "from matplotlib import animation\n",
    "from matplotlib.animation import PillowWriter\n",
    "import matplotlib.pyplot as plt\n",
    "import numpy as np\n",
    "\n",
    "\n",
    "class OOPlanet:\n",
    "    def __init__(self, radius, angularfreq):\n",
    "        self.radius = radius\n",
    "        self.angularfreq = angularfreq\n",
    "        \n",
    "    def getangularfreq(self):\n",
    "        return self.angularfreq\n",
    "    \n",
    "    def getradius(self):\n",
    "        return self.radius\n",
    "        \n",
    "    def getX(self, time):\n",
    "        return self.radius * np.cos(self.angularfreq * time)\n",
    "    \n",
    "    def getY(self, time):\n",
    "        return self.radius * np.sin(self.angularfreq * time)\n",
    "    \n",
    "    def position(self, time):\n",
    "        return (self.getX(time), self.getY(time))\n",
    "        \n",
    "    def planetevolve(self, start, end, timestep):\n",
    "        tinterval = end - start\n",
    "        resolution = tinterval // timestep\n",
    "        xarray = []\n",
    "        yarray = []\n",
    "        t = start\n",
    "        for i in range(resolution):\n",
    "            xarray.append(self.position(t)[0])\n",
    "            yarray.append(self.position(t)[1])\n",
    "            t = t + timestep\n",
    "        return [xarray, yarray]\n",
    "\n",
    "class OOPmoon(OOPlanet): #subclass of OOPlanet\n",
    "    def __init__(self, radius, angularfreq, radius2, angularfreq2): #radius2 and angularfreq2 are relative to earth\n",
    "        super().__init__(radius, angularfreq)\n",
    "        self.radius2 = radius2\n",
    "        self.angularfreq2 = angularfreq2\n",
    "    \n",
    "    def getradius2(self):\n",
    "        return self.radius2\n",
    "    \n",
    "    def getangularfreq2(self):\n",
    "        return self.angularfreq2\n",
    "    \n",
    "    def getX(self, time):\n",
    "        return super().getX(time) + (self.radius2 * np.cos(self.angularfreq2 * time))\n",
    "    \n",
    "    def getY(self, time):\n",
    "        return super().getY(time) + (self.radius2 * np.sin(self.angularfreq2 * time))\n",
    "                        \n",
    "    def position(self, time):\n",
    "        return (self.getX(time), self.getY(time))\n",
    "    \n",
    "    def moonevolve(self, start, end, timestep):\n",
    "        tinterval = end - start\n",
    "        resolution = tinterval // timestep\n",
    "        xarray = []\n",
    "        yarray = []\n",
    "        t = start\n",
    "        for i in range(resolution):\n",
    "            xarray.append(self.position(t)[0])\n",
    "            yarray.append(self.position(t)[1])\n",
    "            t = t + timestep\n",
    "        return [xarray, yarray]\n",
    "\n",
    "\n",
    "# Initialising the 3 planets. We only create an instance of OOPlanet for Earth and another instance of OOPmoon for\n",
    "# the moon. We do not need to initialise the sun because we are taking the origin to be sun and we the observer's\n",
    "# frame of reference IS the sun's reference frame\n",
    "earthsun_radius = 15\n",
    "earthmoon_radius = 3\n",
    "\n",
    "earth = OOPlanet(earthsun_radius, (2*np.pi)/365.25)\n",
    "moon = OOPmoon(earthsun_radius, (2*np.pi)/365.25, earthmoon_radius, (2*np.pi)/27.3)\n",
    "\n",
    "xe, ye = earth.planetevolve(0, 365, 1)[0], earth.planetevolve(0, 365, 1)[1]\n",
    "\n",
    "xm, ym = moon.moonevolve(0, 365, 1)[0], moon.moonevolve(0, 365, 1)[1]\n",
    "\n",
    "# plt.plot(xm, ym, '.', color = 'grey')\n",
    "# plt.plot(xe, ye, '.', color = 'blue')\n",
    "\n",
    "\n",
    "# Animating the plot\n",
    "fig, ax = plt.subplots(1, 1, figsize = (8,8))\n",
    "movingmoon, = plt.plot([], [], 'o', color = 'grey')\n",
    "movingearth, = plt.plot([], [], 'o', color = 'blue')\n",
    "time_text = ax.text(0.65, 0.95, '', fontsize=15,\n",
    "                    bbox=dict(facecolor='white', edgecolor='black'), \n",
    "                    transform=ax.transAxes)\n",
    "\n",
    "ax.set_xlim(-20, 20)\n",
    "ax.set_ylim(-20, 20)\n",
    "plt.xticks([], [])\n",
    "plt.yticks([], [])\n",
    "\n",
    "def animate(frame):\n",
    "    plt.plot(0,0 ,'o', color = 'orange', markersize = 10)\n",
    "    movingmoon.set_data(xm[frame], ym[frame])\n",
    "    movingearth.set_data(xe[frame], ye[frame])\n",
    "    time_text.set_text('t={:.2f} days'.format(frame))\n",
    "    \n",
    "ani = animation.FuncAnimation(fig, animate, frames = 365, interval = 1)\n",
    "# ani.save('animation2.gif', writer = 'pillow', fps=30, dpi = 120)\n",
    "    "
   ]
  },
  {
   "cell_type": "code",
   "execution_count": null,
   "id": "35c1f102",
   "metadata": {},
   "outputs": [],
   "source": []
  },
  {
   "cell_type": "markdown",
   "id": "f368aa4f",
   "metadata": {},
   "source": [
    "Earth-Moon orbital radius: $380 \\times 10^3$ km\n",
    "\n",
    "Earth-Moon orbital period: $27.3$ days\n",
    "\n",
    "Earth-Sun orbital radius: $(149 \\times 10^3) \\times 10^3$ km\n",
    "\n",
    "Earth-Sun orbital period: $365.25$ days"
   ]
  },
  {
   "cell_type": "code",
   "execution_count": 62,
   "id": "f42cc040",
   "metadata": {},
   "outputs": [
    {
     "data": {
      "image/png": "[encoded data removed]",
      "text/plain": [
       "<Figure size 800x800 with 1 Axes>"
      ]
     },
     "metadata": {},
     "output_type": "display_data"
    }
   ],
   "source": []
  },
  {
   "cell_type": "code",
   "execution_count": null,
   "id": "c841419b",
   "metadata": {},
   "outputs": [],
   "source": []
  }
 ],
 "metadata": {
  "kernelspec": {
   "display_name": "Python 3 (ipykernel)",
   "language": "python",
   "name": "python3"
  },
  "language_info": {
   "codemirror_mode": {
    "name": "ipython",
    "version": 3
   },
   "file_extension": ".py",
   "mimetype": "text/x-python",
   "name": "python",
   "nbconvert_exporter": "python",
   "pygments_lexer": "ipython3",
   "version": "3.9.13"
  }
 },
 "nbformat": 4,
 "nbformat_minor": 5
}
