{
 "cells": [
  {
   "cell_type": "code",
   "execution_count": null,
   "id": "dcf620a6",
   "metadata": {},
   "outputs": [],
   "source": [
    "from matplotlib import animation\n",
    "from matplotlib.animation import PillowWriter\n",
    "import matplotlib.pyplot as plt\n",
    "import numpy as np\n",
    "\n",
    "\n",
    "class OOPlanet:\n",
    "    def __init__(self, rad, pomg):\n",
    "        self.rad = rad\n",
    "        self.pomg = pomg\n",
    "        \n",
    "    def getX(self, time):\n",
    "        return self.rad * np.cos(self.pomg * time)\n",
    "    \n",
    "    def getY(self, time):\n",
    "        return self.rad * np.sin(self.pomg * time)\n",
    "    \n",
    "    def position(self, time):\n",
    "        return (self.getX(time), self.getY(time))\n",
    "        \n",
    "    def evolve(self, start, end, resolution):\n",
    "        tinterval = end - start\n",
    "        timestep = tinterval / resolution\n",
    "        xarray = []\n",
    "        yarray = []\n",
    "        t = start\n",
    "        for i in range(resolution):\n",
    "            xarray.append(self.position(t)[0]\n",
    "            yarray.append(self.position(t)[1])\n",
    "            t = ((i+1)*timestep) + t\n",
    "        return [xarray, yarray]\n",
    "\n",
    "class OOPmoon(OOPlanet):\n",
    "    def __init__(self, rad, pomg):\n",
    "        super().__init__(rad, pomg)\n",
    "                        \n",
    "    def position(self, time):\n",
    "        xs = self.rad * np.cos(self.pomg * time) + super().getX(time)\n",
    "        ys = self.rad * np.sin(self.pomg * time) + super().getY(time)\n",
    "        return (xs, ys)\n",
    "    \n",
    "\n",
    "    def evolve(self, start, end, resolution):\n",
    "        tinterval = end - start\n",
    "        timestep = tinterval / resolution\n",
    "        xarray = []\n",
    "        yarray = []\n",
    "        t = start\n",
    "        for i in range(resolution):\n",
    "            xarray.append(self.position(t)[0])\n",
    "            yarray.append(self.position(t)[1])\n",
    "            t = ((i+1)*timestep) + t\n",
    "        return [xarray, yarray]"
   ]
  }
 ],
 "metadata": {
  "kernelspec": {
   "display_name": "Python 3 (ipykernel)",
   "language": "python",
   "name": "python3"
  },
  "language_info": {
   "codemirror_mode": {
    "name": "ipython",
    "version": 3
   },
   "file_extension": ".py",
   "mimetype": "text/x-python",
   "name": "python",
   "nbconvert_exporter": "python",
   "pygments_lexer": "ipython3",
   "version": "3.9.13"
  }
 },
 "nbformat": 4,
 "nbformat_minor": 5
}
